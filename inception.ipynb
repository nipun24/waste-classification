{
  "nbformat": 4,
  "nbformat_minor": 0,
  "metadata": {
    "colab": {
      "name": "inception.ipynb",
      "provenance": [],
      "collapsed_sections": []
    },
    "kernelspec": {
      "name": "python3",
      "display_name": "Python 3"
    },
    "accelerator": "GPU"
  },
  "cells": [
    {
      "cell_type": "code",
      "metadata": {
        "id": "vWYkEGu1NPjd",
        "colab_type": "code",
        "colab": {}
      },
      "source": [
        "import tensorflow as tf"
      ],
      "execution_count": 0,
      "outputs": []
    },
    {
      "cell_type": "code",
      "metadata": {
        "id": "9R8Lp1ZdOnwk",
        "colab_type": "code",
        "colab": {
          "base_uri": "https://localhost:8080/",
          "height": 54
        },
        "outputId": "51516103-498a-4eeb-dcc2-95c22429262f"
      },
      "source": [
        "from google.colab import drive\n",
        "drive.mount('/content/drive')"
      ],
      "execution_count": 2,
      "outputs": [
        {
          "output_type": "stream",
          "text": [
            "Drive already mounted at /content/drive; to attempt to forcibly remount, call drive.mount(\"/content/drive\", force_remount=True).\n"
          ],
          "name": "stdout"
        }
      ]
    },
    {
      "cell_type": "code",
      "metadata": {
        "id": "6OE8Lz8eO1yU",
        "colab_type": "code",
        "colab": {}
      },
      "source": [
        "from zipfile import ZipFile\n",
        "f = ZipFile('drive/My Drive/Dataset/classorig.zip', 'r')\n",
        "f.extractall()"
      ],
      "execution_count": 0,
      "outputs": []
    },
    {
      "cell_type": "code",
      "metadata": {
        "id": "OsUuQpj3W5Ap",
        "colab_type": "code",
        "colab": {
          "base_uri": "https://localhost:8080/",
          "height": 34
        },
        "outputId": "65fda55d-e4d8-4da1-efb9-ebf0ae01e453"
      },
      "source": [
        "import os\n",
        "os.listdir('actualdata/CONTENT')"
      ],
      "execution_count": 4,
      "outputs": [
        {
          "output_type": "execute_result",
          "data": {
            "text/plain": [
              "['O', 'R']"
            ]
          },
          "metadata": {
            "tags": []
          },
          "execution_count": 4
        }
      ]
    },
    {
      "cell_type": "code",
      "metadata": {
        "id": "2ugWY91cN6hb",
        "colab_type": "code",
        "colab": {
          "base_uri": "https://localhost:8080/",
          "height": 51
        },
        "outputId": "da53d598-355f-4fe0-8edf-2e8d9461cf8e"
      },
      "source": [
        "train_datagen = tf.keras.preprocessing.image.ImageDataGenerator(\n",
        "    rescale=1./255,\n",
        "    shear_range=0.2,\n",
        "    zoom_range=0.2,\n",
        "    horizontal_flip=True,\n",
        "    validation_split=0.1\n",
        "    )\n",
        "\n",
        "train_generator = train_datagen.flow_from_directory(\n",
        "    'actualdata/CONTENT',  \n",
        "    target_size=(150, 150), \n",
        "    batch_size=32,\n",
        "    class_mode='categorical',\n",
        "    subset='training'\n",
        "    )\n",
        "test_generator = train_datagen.flow_from_directory(\n",
        "    'actualdata/CONTENT',\n",
        "    target_size=(150,150),\n",
        "    batch_size=32,\n",
        "    class_mode='categorical',\n",
        "    subset='validation'\n",
        "    )"
      ],
      "execution_count": 5,
      "outputs": [
        {
          "output_type": "stream",
          "text": [
            "Found 22570 images belonging to 2 classes.\n",
            "Found 2507 images belonging to 2 classes.\n"
          ],
          "name": "stdout"
        }
      ]
    },
    {
      "cell_type": "code",
      "metadata": {
        "id": "XsNJ6fM1OEVn",
        "colab_type": "code",
        "colab": {}
      },
      "source": [
        "base_model = tf.keras.applications.InceptionResNetV2(input_shape=(150,150,3),\n",
        "                                               include_top=False,\n",
        "                                               weights='imagenet')\n",
        "base_model.trainable = False                                   "
      ],
      "execution_count": 0,
      "outputs": []
    },
    {
      "cell_type": "code",
      "metadata": {
        "id": "tApik03gOJ8g",
        "colab_type": "code",
        "colab": {}
      },
      "source": [
        "model = tf.keras.models.Sequential([base_model,\n",
        "                                    tf.keras.layers.Conv2D(32, (2,2), activation = 'relu'),\n",
        "                                    tf.keras.layers.MaxPooling2D(pool_size=(1, 1)),\n",
        "                                    tf.keras.layers.GlobalMaxPooling2D(),\n",
        "                                    tf.keras.layers.Dense(2,activation = 'softmax')])\n",
        "\n",
        "model.compile(loss='categorical_crossentropy',\n",
        "              optimizer='rmsprop',\n",
        "              metrics=['accuracy'])"
      ],
      "execution_count": 0,
      "outputs": []
    },
    {
      "cell_type": "code",
      "metadata": {
        "id": "-aFTXstZOPSx",
        "colab_type": "code",
        "colab": {
          "base_uri": "https://localhost:8080/",
          "height": 1000
        },
        "outputId": "054bd434-eb5e-4681-a531-78329041e54a"
      },
      "source": [
        "my_callbacks = [\n",
        "    # tf.keras.callbacks.EarlyStopping(monitor='accuracy',patience=5,mode = 'max'),\n",
        "    tf.keras.callbacks.ModelCheckpoint(monitor = 'accuracy',filepath='inceptiong-{accuracy:.4f}.h5',save_best_only=True,mode='max',),\n",
        "]\n",
        "model.fit(train_generator,\n",
        "        batch_size=2000,\n",
        "        steps_per_epoch=125,\n",
        "        epochs=40,\n",
        "        callbacks=my_callbacks\n",
        "        )"
      ],
      "execution_count": 14,
      "outputs": [
        {
          "output_type": "stream",
          "text": [
            "Epoch 1/40\n",
            "125/125 [==============================] - 24s 194ms/step - loss: 0.9288 - accuracy: 0.7856\n",
            "Epoch 2/40\n",
            "125/125 [==============================] - 25s 197ms/step - loss: 0.4117 - accuracy: 0.8813\n",
            "Epoch 3/40\n",
            "125/125 [==============================] - 25s 197ms/step - loss: 0.3917 - accuracy: 0.8850\n",
            "Epoch 4/40\n",
            "125/125 [==============================] - 25s 196ms/step - loss: 0.3661 - accuracy: 0.8938\n",
            "Epoch 5/40\n",
            "125/125 [==============================] - 24s 196ms/step - loss: 0.3554 - accuracy: 0.8945\n",
            "Epoch 6/40\n",
            "125/125 [==============================] - 25s 197ms/step - loss: 0.2814 - accuracy: 0.9005\n",
            "Epoch 7/40\n",
            "125/125 [==============================] - 24s 196ms/step - loss: 0.2660 - accuracy: 0.9050\n",
            "Epoch 8/40\n",
            "125/125 [==============================] - 24s 196ms/step - loss: 0.2587 - accuracy: 0.9103\n",
            "Epoch 9/40\n",
            "125/125 [==============================] - 25s 196ms/step - loss: 0.2464 - accuracy: 0.9120\n",
            "Epoch 10/40\n",
            "125/125 [==============================] - 25s 199ms/step - loss: 0.2293 - accuracy: 0.9240\n",
            "Epoch 11/40\n",
            "125/125 [==============================] - 23s 187ms/step - loss: 0.2224 - accuracy: 0.9195\n",
            "Epoch 12/40\n",
            "125/125 [==============================] - 23s 186ms/step - loss: 0.2276 - accuracy: 0.9191\n",
            "Epoch 13/40\n",
            "125/125 [==============================] - 23s 187ms/step - loss: 0.2443 - accuracy: 0.9197\n",
            "Epoch 14/40\n",
            "125/125 [==============================] - 23s 187ms/step - loss: 0.2106 - accuracy: 0.9212\n",
            "Epoch 15/40\n",
            "125/125 [==============================] - 23s 187ms/step - loss: 0.2186 - accuracy: 0.9230\n",
            "Epoch 16/40\n",
            "125/125 [==============================] - 24s 196ms/step - loss: 0.2129 - accuracy: 0.9268\n",
            "Epoch 17/40\n",
            "125/125 [==============================] - 23s 187ms/step - loss: 0.2339 - accuracy: 0.9140\n",
            "Epoch 18/40\n",
            "125/125 [==============================] - 23s 186ms/step - loss: 0.2111 - accuracy: 0.9222\n",
            "Epoch 19/40\n",
            "125/125 [==============================] - 25s 196ms/step - loss: 0.2137 - accuracy: 0.9300\n",
            "Epoch 20/40\n",
            "125/125 [==============================] - 23s 186ms/step - loss: 0.1973 - accuracy: 0.9263\n",
            "Epoch 21/40\n",
            "125/125 [==============================] - 23s 188ms/step - loss: 0.2283 - accuracy: 0.9180\n",
            "Epoch 22/40\n",
            "125/125 [==============================] - 23s 186ms/step - loss: 0.1859 - accuracy: 0.9291\n",
            "Epoch 23/40\n",
            "125/125 [==============================] - 23s 187ms/step - loss: 0.1979 - accuracy: 0.9268\n",
            "Epoch 24/40\n",
            "125/125 [==============================] - 24s 196ms/step - loss: 0.1810 - accuracy: 0.9323\n",
            "Epoch 25/40\n",
            "125/125 [==============================] - 24s 194ms/step - loss: 0.1693 - accuracy: 0.9392\n",
            "Epoch 26/40\n",
            "125/125 [==============================] - 23s 188ms/step - loss: 0.1911 - accuracy: 0.9305\n",
            "Epoch 27/40\n",
            "125/125 [==============================] - 25s 196ms/step - loss: 0.1573 - accuracy: 0.9410\n",
            "Epoch 28/40\n",
            "125/125 [==============================] - 23s 186ms/step - loss: 0.1777 - accuracy: 0.9358\n",
            "Epoch 29/40\n",
            "125/125 [==============================] - 23s 187ms/step - loss: 0.1720 - accuracy: 0.9385\n",
            "Epoch 30/40\n",
            "125/125 [==============================] - 23s 186ms/step - loss: 0.1703 - accuracy: 0.9388\n",
            "Epoch 31/40\n",
            "125/125 [==============================] - 23s 186ms/step - loss: 0.1808 - accuracy: 0.9333\n",
            "Epoch 32/40\n",
            "125/125 [==============================] - 23s 186ms/step - loss: 0.1821 - accuracy: 0.9365\n",
            "Epoch 33/40\n",
            "125/125 [==============================] - 23s 186ms/step - loss: 0.1671 - accuracy: 0.9375\n",
            "Epoch 34/40\n",
            "125/125 [==============================] - 23s 188ms/step - loss: 0.1581 - accuracy: 0.9402\n",
            "Epoch 35/40\n",
            "125/125 [==============================] - 23s 186ms/step - loss: 0.1638 - accuracy: 0.9383\n",
            "Epoch 36/40\n",
            "125/125 [==============================] - 24s 195ms/step - loss: 0.1559 - accuracy: 0.9437\n",
            "Epoch 37/40\n",
            "125/125 [==============================] - 23s 186ms/step - loss: 0.1650 - accuracy: 0.9415\n",
            "Epoch 38/40\n",
            "125/125 [==============================] - 23s 186ms/step - loss: 0.1595 - accuracy: 0.9427\n",
            "Epoch 39/40\n",
            "125/125 [==============================] - 23s 187ms/step - loss: 0.1695 - accuracy: 0.9395\n",
            "Epoch 40/40\n",
            "125/125 [==============================] - 23s 186ms/step - loss: 0.1477 - accuracy: 0.9437\n"
          ],
          "name": "stdout"
        },
        {
          "output_type": "execute_result",
          "data": {
            "text/plain": [
              "<tensorflow.python.keras.callbacks.History at 0x7f4da0bdbda0>"
            ]
          },
          "metadata": {
            "tags": []
          },
          "execution_count": 14
        }
      ]
    },
    {
      "cell_type": "code",
      "metadata": {
        "id": "eIT1oifKQ3Vf",
        "colab_type": "code",
        "colab": {
          "base_uri": "https://localhost:8080/",
          "height": 51
        },
        "outputId": "e310b94a-a9c7-44a4-b9ef-54b55b67764e"
      },
      "source": [
        "nmodel = tf.keras.models.load_model('inceptiong-0.9392.h5')\n",
        "nmodel.evaluate(test_generator)"
      ],
      "execution_count": 22,
      "outputs": [
        {
          "output_type": "stream",
          "text": [
            "79/79 [==============================] - 15s 186ms/step - loss: 0.2886 - accuracy: 0.9055\n"
          ],
          "name": "stdout"
        },
        {
          "output_type": "execute_result",
          "data": {
            "text/plain": [
              "[0.2886269986629486, 0.9054647088050842]"
            ]
          },
          "metadata": {
            "tags": []
          },
          "execution_count": 22
        }
      ]
    }
  ]
}